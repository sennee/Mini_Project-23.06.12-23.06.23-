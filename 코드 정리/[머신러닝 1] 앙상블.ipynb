{
  "cells": [
    {
      "cell_type": "code",
      "execution_count": 6,
      "metadata": {
        "id": "H9ZRCZdPPbHu"
      },
      "outputs": [
        {
          "name": "stderr",
          "output_type": "stream",
          "text": [
            "C:\\Users\\sjo05\\AppData\\Local\\Temp\\ipykernel_5824\\3109123500.py:27: FutureWarning: The default value of regex will change from True to False in a future version.\n",
            "  df_test.columns = df_test.columns.str.replace('khnp_buoy_test.', 'k')\n",
            "C:\\Users\\sjo05\\AppData\\Local\\Temp\\ipykernel_5824\\3109123500.py:28: FutureWarning: The default value of regex will change from True to False in a future version.\n",
            "  df_test.columns = df_test.columns.str.replace('kma_lightbecon_test.', 'l')\n",
            "C:\\Users\\sjo05\\AppData\\Local\\Temp\\ipykernel_5824\\3109123500.py:29: FutureWarning: The default value of regex will change from True to False in a future version.\n",
            "  df_test.columns = df_test.columns.str.replace('kma_pagobuoy_test.', 'n')\n"
          ]
        },
        {
          "name": "stdout",
          "output_type": "stream",
          "text": [
            "훈련 세트 정확도: 0.9492860659773511\n",
            "검증 세트 정확도: 0.8976377952755905\n"
          ]
        }
      ],
      "source": [
        "#공통 import\n",
        "import pandas as pd\n",
        "import numpy as np\n",
        "from sklearn.preprocessing import MinMaxScaler, StandardScaler\n",
        "from sklearn.model_selection import train_test_split, cross_validate\n",
        "\n",
        "from joblib import parallel_backend\n",
        "from sklearn.metrics import accuracy_score\n",
        "from sklearn.decomposition import PCA\n",
        "\n",
        "#모델 import\n",
        "from xgboost import XGBClassifier, XGBRFClassifier\n",
        "from lightgbm import LGBMClassifier\n",
        "from sklearn.ensemble import RandomForestClassifier\n",
        "from sklearn.ensemble import ExtraTreesClassifier\n",
        "from sklearn.ensemble import AdaBoostClassifier\n",
        "\n",
        "from sklearn.metrics import accuracy_score\n",
        "from sklearn.ensemble import VotingClassifier\n",
        "\n",
        "# df = pd.read_csv('./통합데이터/df_train_v3_mean.csv') # 결측치로 평균으로 한 테이블\n",
        "df = pd.read_csv('./통합데이터/df_train_v3.csv') # 결측치를 제거한 테이블\n",
        "df_test = df\n",
        "df_test\n",
        "\n",
        "# 컬럼명에서 'kma_lightbecon_train.'을 제거\n",
        "df_test.columns = df_test.columns.str.replace('khnp_buoy_test.', 'k')\n",
        "df_test.columns = df_test.columns.str.replace('kma_lightbecon_test.', 'l')\n",
        "df_test.columns = df_test.columns.str.replace('kma_pagobuoy_test.', 'n')\n",
        "df_train = df_test\n",
        "\n",
        "# 데이터 전처리\n",
        "data = df_train.drop(columns=['answer', 'year', 'month', 'day', 'hour'])\n",
        "target = df_train['answer']\n",
        "scaler = StandardScaler() #<- 스케일링 방식 변경 가능\n",
        "data_scaled = scaler.fit_transform(data)\n",
        "\n",
        "# PCA를 사용하여 차원 축소\n",
        "pca = PCA(n_components = 10)  # 목표 차원 수로 조정\n",
        "data_pca = pca.fit_transform(data_scaled)\n",
        "\n",
        "# 축소된 데이터로 새로운 데이터프레임 생성\n",
        "df_pca = pd.DataFrame(data_pca, columns=['PC1', 'PC2', 'PC3', 'PC4', 'PC5', 'PC6', 'PC7', 'PC8', 'PC9', 'PC10'])\n",
        "\n",
        "# 축소된 데이터로 모델 훈련 데이터 나누기\n",
        "X_train, X_val, y_train, y_val = train_test_split(df_pca, target, test_size=0.2, random_state=123, stratify=target)\n",
        "\n",
        "# 모델 객체 생성\n",
        "xgbc = XGBClassifier()\n",
        "lgbm = LGBMClassifier(random_state=42)\n",
        "rfc = RandomForestClassifier(n_estimators=100, max_depth=10, n_jobs=-1, random_state=42)\n",
        "etc = ExtraTreesClassifier(random_state=42)\n",
        "adaboost = AdaBoostClassifier(random_state=42)\n",
        "xgbrfc = XGBRFClassifier()\n",
        "\n",
        "# VotingClassifier로 앙상블 모델 생성\n",
        "ensemble = VotingClassifier(estimators=[('rfc', rfc), ('xgbrfc', xgbrfc)], voting='hard') #<-모델명 변경에 따라 적절하게 변경\n",
        "\n",
        "# 앙상블 모델 훈련\n",
        "ensemble.fit(X_train, y_train)\n",
        "\n",
        "# 훈련 세트 정확도 출력\n",
        "train_pred = ensemble.predict(X_train)\n",
        "train_accuracy = accuracy_score(y_train, train_pred)\n",
        "print(\"훈련 세트 정확도:\", train_accuracy)\n",
        "\n",
        "# 검증 세트 정확도 출력\n",
        "val_pred = ensemble.predict(X_val)\n",
        "val_accuracy = accuracy_score(y_val, val_pred)\n",
        "print(\"검증 세트 정확도:\", val_accuracy)"
      ]
    }
  ],
  "metadata": {
    "colab": {
      "provenance": []
    },
    "kernelspec": {
      "display_name": "Python 3",
      "name": "python3"
    },
    "language_info": {
      "codemirror_mode": {
        "name": "ipython",
        "version": 3
      },
      "file_extension": ".py",
      "mimetype": "text/x-python",
      "name": "python",
      "nbconvert_exporter": "python",
      "pygments_lexer": "ipython3",
      "version": "3.10.9"
    }
  },
  "nbformat": 4,
  "nbformat_minor": 0
}
